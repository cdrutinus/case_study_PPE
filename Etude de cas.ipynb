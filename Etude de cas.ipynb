{
 "cells": [
  {
   "cell_type": "code",
   "execution_count": 1,
   "metadata": {},
   "outputs": [
    {
     "name": "stdout",
     "output_type": "stream",
     "text": [
      "The history saving thread hit an unexpected error (DatabaseError('database disk image is malformed')).History will not be written to the database.\n"
     ]
    },
    {
     "name": "stderr",
     "output_type": "stream",
     "text": [
      "\n",
      "Bad key \"text.kerning_factor\" on line 4 in\n",
      "/home/cdrutinus/anaconda3/envs/isae/lib/python3.7/site-packages/matplotlib/mpl-data/stylelib/_classic_test_patch.mplstyle.\n",
      "You probably need to get an updated matplotlibrc file from\n",
      "http://github.com/matplotlib/matplotlib/blob/master/matplotlibrc.template\n",
      "or from the matplotlib source distribution\n"
     ]
    }
   ],
   "source": [
    "import pulp\n",
    "import matplotlib.pyplot as plt\n",
    "import numpy as np\n",
    "import pandas as pd\n",
    "import time"
   ]
  },
  {
   "cell_type": "markdown",
   "metadata": {},
   "source": [
    "# Données\n",
    "### Données de consommation"
   ]
  },
  {
   "cell_type": "code",
   "execution_count": 2,
   "metadata": {},
   "outputs": [
    {
     "data": {
      "text/html": [
       "<div>\n",
       "<style scoped>\n",
       "    .dataframe tbody tr th:only-of-type {\n",
       "        vertical-align: middle;\n",
       "    }\n",
       "\n",
       "    .dataframe tbody tr th {\n",
       "        vertical-align: top;\n",
       "    }\n",
       "\n",
       "    .dataframe thead th {\n",
       "        text-align: right;\n",
       "    }\n",
       "</style>\n",
       "<table border=\"1\" class=\"dataframe\">\n",
       "  <thead>\n",
       "    <tr style=\"text-align: right;\">\n",
       "      <th></th>\n",
       "      <th>Date</th>\n",
       "      <th>Consommation (MW)</th>\n",
       "      <th>Thermique (MW)</th>\n",
       "      <th>Bagasse/charbon (MW)</th>\n",
       "      <th>Hydraulique (MW)</th>\n",
       "      <th>Photovoltaïque (MW)</th>\n",
       "      <th>Eolien (MW)</th>\n",
       "      <th>Bioénergies (MW)</th>\n",
       "    </tr>\n",
       "  </thead>\n",
       "  <tbody>\n",
       "    <tr>\n",
       "      <th>0</th>\n",
       "      <td>01/01/2017 04:00</td>\n",
       "      <td>258.452</td>\n",
       "      <td>29.471</td>\n",
       "      <td>198.937</td>\n",
       "      <td>29.183</td>\n",
       "      <td>-0.434</td>\n",
       "      <td>-0.059</td>\n",
       "      <td>1.353</td>\n",
       "    </tr>\n",
       "    <tr>\n",
       "      <th>1</th>\n",
       "      <td>01/01/2017 05:00</td>\n",
       "      <td>251.673</td>\n",
       "      <td>30.472</td>\n",
       "      <td>194.092</td>\n",
       "      <td>26.283</td>\n",
       "      <td>-0.427</td>\n",
       "      <td>-0.060</td>\n",
       "      <td>1.313</td>\n",
       "    </tr>\n",
       "    <tr>\n",
       "      <th>2</th>\n",
       "      <td>01/01/2017 06:00</td>\n",
       "      <td>242.021</td>\n",
       "      <td>30.010</td>\n",
       "      <td>181.286</td>\n",
       "      <td>29.805</td>\n",
       "      <td>-0.359</td>\n",
       "      <td>-0.062</td>\n",
       "      <td>1.341</td>\n",
       "    </tr>\n",
       "    <tr>\n",
       "      <th>3</th>\n",
       "      <td>01/01/2017 07:00</td>\n",
       "      <td>233.028</td>\n",
       "      <td>24.341</td>\n",
       "      <td>173.220</td>\n",
       "      <td>22.226</td>\n",
       "      <td>11.997</td>\n",
       "      <td>-0.042</td>\n",
       "      <td>1.285</td>\n",
       "    </tr>\n",
       "    <tr>\n",
       "      <th>4</th>\n",
       "      <td>01/01/2017 08:00</td>\n",
       "      <td>245.900</td>\n",
       "      <td>14.836</td>\n",
       "      <td>163.957</td>\n",
       "      <td>19.252</td>\n",
       "      <td>46.460</td>\n",
       "      <td>0.030</td>\n",
       "      <td>1.365</td>\n",
       "    </tr>\n",
       "  </tbody>\n",
       "</table>\n",
       "</div>"
      ],
      "text/plain": [
       "               Date  Consommation (MW)  Thermique (MW)  Bagasse/charbon (MW)  \\\n",
       "0  01/01/2017 04:00            258.452          29.471               198.937   \n",
       "1  01/01/2017 05:00            251.673          30.472               194.092   \n",
       "2  01/01/2017 06:00            242.021          30.010               181.286   \n",
       "3  01/01/2017 07:00            233.028          24.341               173.220   \n",
       "4  01/01/2017 08:00            245.900          14.836               163.957   \n",
       "\n",
       "   Hydraulique (MW)  Photovoltaïque (MW)  Eolien (MW)  Bioénergies (MW)  \n",
       "0            29.183               -0.434       -0.059             1.353  \n",
       "1            26.283               -0.427       -0.060             1.313  \n",
       "2            29.805               -0.359       -0.062             1.341  \n",
       "3            22.226               11.997       -0.042             1.285  \n",
       "4            19.252               46.460        0.030             1.365  "
      ]
     },
     "execution_count": 2,
     "metadata": {},
     "output_type": "execute_result"
    }
   ],
   "source": [
    "data = pd.read_csv(\"data.csv\", sep=';')\n",
    "\n",
    "data.head()"
   ]
  },
  {
   "cell_type": "code",
   "execution_count": 3,
   "metadata": {},
   "outputs": [
    {
     "name": "stdout",
     "output_type": "stream",
     "text": [
      "398.701\n"
     ]
    },
    {
     "data": {
      "text/plain": [
       "8343    398.701\n",
       "5823    390.465\n",
       "8342    383.571\n",
       "8295    382.374\n",
       "1622    382.236\n",
       "         ...   \n",
       "5424    130.983\n",
       "5423    129.570\n",
       "3035    121.544\n",
       "3033    119.953\n",
       "3034    110.059\n",
       "Name: Consommation totale thermique (MW), Length: 8760, dtype: float64"
      ]
     },
     "execution_count": 3,
     "metadata": {},
     "output_type": "execute_result"
    }
   ],
   "source": [
    "data = data.drop(['Consommation (MW)', 'Hydraulique (MW)', 'Photovoltaïque (MW)', 'Eolien (MW)',\n",
    "                 'Bioénergies (MW)'], axis=1)\n",
    "\n",
    "data['Consommation totale thermique (MW)'] = data.loc[:, 'Thermique (MW)':'Bagasse/charbon (MW)'].sum(1)\n",
    "\n",
    "data.head()\n",
    "\n",
    "print(max(data['Consommation totale thermique (MW)']))\n",
    "\n",
    "data['Consommation totale thermique (MW)'].sort_values(ascending=False)"
   ]
  },
  {
   "cell_type": "markdown",
   "metadata": {},
   "source": [
    "### Données des centrales"
   ]
  },
  {
   "cell_type": "code",
   "execution_count": 22,
   "metadata": {},
   "outputs": [
    {
     "data": {
      "text/html": [
       "<div>\n",
       "<style scoped>\n",
       "    .dataframe tbody tr th:only-of-type {\n",
       "        vertical-align: middle;\n",
       "    }\n",
       "\n",
       "    .dataframe tbody tr th {\n",
       "        vertical-align: top;\n",
       "    }\n",
       "\n",
       "    .dataframe thead th {\n",
       "        text-align: right;\n",
       "    }\n",
       "</style>\n",
       "<table border=\"1\" class=\"dataframe\">\n",
       "  <thead>\n",
       "    <tr style=\"text-align: right;\">\n",
       "      <th></th>\n",
       "      <th>centrale</th>\n",
       "      <th>type</th>\n",
       "      <th>Pmax (MW)</th>\n",
       "      <th>nb unités</th>\n",
       "      <th>capacité totale (MW)</th>\n",
       "      <th>Pmin (MW)</th>\n",
       "      <th>Coût (€/MWh)</th>\n",
       "      <th>durée minimum marche et arrêt (h)</th>\n",
       "      <th>taux annuel arrêt fortuit (%)</th>\n",
       "      <th>durée arrêt fortuit (j)</th>\n",
       "      <th>nombre maintenances par an par unité</th>\n",
       "      <th>durée maintenance (j)</th>\n",
       "    </tr>\n",
       "  </thead>\n",
       "  <tbody>\n",
       "    <tr>\n",
       "      <th>0</th>\n",
       "      <td>Bois Rouge</td>\n",
       "      <td>bagasse/charbon</td>\n",
       "      <td>500</td>\n",
       "      <td>3</td>\n",
       "      <td>100</td>\n",
       "      <td>10</td>\n",
       "      <td>100</td>\n",
       "      <td>6</td>\n",
       "      <td>0,05</td>\n",
       "      <td>7</td>\n",
       "      <td>1</td>\n",
       "      <td>1</td>\n",
       "    </tr>\n",
       "    <tr>\n",
       "      <th>1</th>\n",
       "      <td>Le Gol</td>\n",
       "      <td>bagasse/charbon</td>\n",
       "      <td>500</td>\n",
       "      <td>3</td>\n",
       "      <td>111</td>\n",
       "      <td>10</td>\n",
       "      <td>100</td>\n",
       "      <td>6</td>\n",
       "      <td>0,05</td>\n",
       "      <td>7</td>\n",
       "      <td>1</td>\n",
       "      <td>1</td>\n",
       "    </tr>\n",
       "    <tr>\n",
       "      <th>2</th>\n",
       "      <td>La Baie</td>\n",
       "      <td>TAC</td>\n",
       "      <td>550</td>\n",
       "      <td>2</td>\n",
       "      <td>80</td>\n",
       "      <td>15</td>\n",
       "      <td>100</td>\n",
       "      <td>1</td>\n",
       "      <td>0,05</td>\n",
       "      <td>7</td>\n",
       "      <td>1</td>\n",
       "      <td>1</td>\n",
       "    </tr>\n",
       "    <tr>\n",
       "      <th>3</th>\n",
       "      <td>Le Port Est</td>\n",
       "      <td>diesel</td>\n",
       "      <td>505</td>\n",
       "      <td>12</td>\n",
       "      <td>216</td>\n",
       "      <td>0</td>\n",
       "      <td>100</td>\n",
       "      <td>1</td>\n",
       "      <td>0,05</td>\n",
       "      <td>7</td>\n",
       "      <td>1</td>\n",
       "      <td>1</td>\n",
       "    </tr>\n",
       "  </tbody>\n",
       "</table>\n",
       "</div>"
      ],
      "text/plain": [
       "      centrale             type  Pmax (MW)  nb unités  capacité totale (MW)  \\\n",
       "0   Bois Rouge  bagasse/charbon        500          3                   100   \n",
       "1       Le Gol  bagasse/charbon        500          3                   111   \n",
       "2      La Baie              TAC        550          2                    80   \n",
       "3  Le Port Est           diesel        505         12                   216   \n",
       "\n",
       "   Pmin (MW)  Coût (€/MWh)  durée minimum marche et arrêt (h)  \\\n",
       "0         10           100                                  6   \n",
       "1         10           100                                  6   \n",
       "2         15           100                                  1   \n",
       "3          0           100                                  1   \n",
       "\n",
       "  taux annuel arrêt fortuit (%)  durée arrêt fortuit (j)  \\\n",
       "0                          0,05                        7   \n",
       "1                          0,05                        7   \n",
       "2                          0,05                        7   \n",
       "3                          0,05                        7   \n",
       "\n",
       "   nombre maintenances par an par unité  durée maintenance (j)  \n",
       "0                                     1                      1  \n",
       "1                                     1                      1  \n",
       "2                                     1                      1  \n",
       "3                                     1                      1  "
      ]
     },
     "execution_count": 22,
     "metadata": {},
     "output_type": "execute_result"
    }
   ],
   "source": [
    "data_centrales = pd.read_csv(\"data centrales.csv\", sep=';')\n",
    "\n",
    "data_centrales.head()"
   ]
  },
  {
   "cell_type": "markdown",
   "metadata": {},
   "source": [
    "# Optimisation\n",
    "## Données"
   ]
  },
  {
   "cell_type": "code",
   "execution_count": 46,
   "metadata": {},
   "outputs": [
    {
     "name": "stdout",
     "output_type": "stream",
     "text": [
      "[10, 10, 10, 10, 10, 10, 15, 15, 0, 0, 0, 0, 0, 0, 0, 0, 0, 0, 0, 0]\n",
      "[500, 500, 500, 500, 500, 500, 550, 550, 505, 505, 505, 505, 505, 505, 505, 505, 505, 505, 505, 505]\n"
     ]
    }
   ],
   "source": [
    "pmin = []\n",
    "for i in range(data_centrales.shape[0]):\n",
    "    nb_unites = data_centrales['nb unités'][i]\n",
    "    for k in range(nb_unites):\n",
    "        pmin.append(data_centrales['Pmin (MW)'][i])\n",
    "\n",
    "pmax = []\n",
    "for i in range(data_centrales.shape[0]):\n",
    "    nb_unites = data_centrales['nb unités'][i]\n",
    "    for k in range(nb_unites):\n",
    "        pmax.append(data_centrales['Pmax (MW)'][i])\n",
    "\n",
    "n = 24*7\n",
    "\n",
    "demande = data['Consommation totale thermique (MW)'][:n]\n",
    "\n",
    "duree_fonc = []\n",
    "for i in range(data_centrales.shape[0]):\n",
    "    nb_unites = data_centrales['nb unités'][i]\n",
    "    for k in range(nb_unites):\n",
    "        duree_fonc.append(data_centrales['durée minimum marche et arrêt (h)'][i])\n",
    "        \n",
    "duree_maint = []\n",
    "for i in range(data_centrales.shape[0]):\n",
    "    nb_unites = data_centrales['nb unités'][i]\n",
    "    for k in range(nb_unites):\n",
    "        duree_maint.append(data_centrales['durée maintenance (j)'][i])\n",
    "        \n",
    "cout = []\n",
    "for i in range(data_centrales.shape[0]):\n",
    "    nb_unites = data_centrales['nb unités'][i]\n",
    "    for k in range(nb_unites):\n",
    "        cout.append(data_centrales['Coût (€/MWh)'][i])\n",
    "        \n",
    "print(pmin)\n",
    "print(pmax)\n",
    "# print(pmin)\n",
    "# print(pmin)"
   ]
  },
  {
   "cell_type": "markdown",
   "metadata": {},
   "source": [
    "## Variables"
   ]
  },
  {
   "cell_type": "code",
   "execution_count": 47,
   "metadata": {},
   "outputs": [],
   "source": [
    "tprob = pulp.LpProblem(\"Week\",pulp.LpMinimize)\n",
    "\n",
    "## production\n",
    "var_prod = []\n",
    "for i in range(len(pmin)):\n",
    "    p = [pulp.LpVariable(\"p{}_{}\".format(i,t),pmin[i],pmax[i]) for t in range(0,n)]\n",
    "    var_prod.append(p)\n",
    "\n",
    "## on/off\n",
    "var_on = []\n",
    "for i in range(len(pmin)):\n",
    "    on = [pulp.LpVariable(\"on{}_{}\".format(i,t),cat=pulp.LpBinary) for t in range(0,n)]\n",
    "    var_on.append(on)\n",
    "    \n",
    "## maintenance\n",
    "var_maint = []\n",
    "for i in range(len(pmin)):\n",
    "    maint = [pulp.LpVariable(\"maint{}_{}\".format(i,t),cat=pulp.LpBinary) for t in range(0,n)]\n",
    "    var_maint.append(maint)\n",
    "    \n",
    "## batterie\n",
    "# capamax = 25\n",
    "# stock_batterie = [pulp.LpVariable(f\"p1load_{t}\",0,capamax) for t in range(0,n)]\n",
    "# cout_batterie = 50\n",
    "# prod_batterie = [pulp.LpVariable(f\"p1load_{t}\",0,capamax) for t in range(0,n)]"
   ]
  },
  {
   "cell_type": "markdown",
   "metadata": {},
   "source": [
    "## Contraintes"
   ]
  },
  {
   "cell_type": "code",
   "execution_count": 48,
   "metadata": {},
   "outputs": [],
   "source": [
    "# Batterie\n",
    "## Initialisation à vide\n",
    "#stock_batterie[0] = 0\n",
    "\n",
    "for t in range(n):\n",
    "    \n",
    "    ## Limite d'utilisation de la batterie\n",
    "    #tprob += prod_batterie[t] <= stock_batterie[t]\n",
    "\n",
    "    for i in range(len(var_prod)):\n",
    "        # Toutes les unités produisent entre pmin et pmax (et 0 si elles sont à l'arrêt)\n",
    "        tprob += var_prod[i][t] >= pmin[i]*var_on[i][t]\n",
    "        tprob += var_prod[i][t] <= pmax[i]*var_on[i][t]\n",
    "        \n",
    "#         # Toutes les unités sont à l'arrêt si elles sont en maintenance\n",
    "#         tprob += var_prod[i][t] <= pmax[i]*(1-var_maint[i][t])\n",
    "        \n",
    "#         tprob += var_on[i][t] <= 1-var_maint[i][t]\n",
    "    \n",
    "    # La production totale doit subvenir à la demande\n",
    "    prod_t = 0\n",
    "    for i in range(len(var_prod)):\n",
    "        prod_t += var_prod[i][t]\n",
    "        \n",
    "    tprob += prod_t >= demande[t] #+ prod_batterie[t] >= demande[t]\n",
    "    \n",
    "#     ## Rechargement de la batterie basé sur la production de l'heure précédente\n",
    "#     if t!=0:\n",
    "#         prod_t_prec = 0\n",
    "#         for i in range(len(var_prod)):\n",
    "#             prod_t_prec += var_prod[i][t-1]\n",
    "#         prod_t_prec += prod_batterie[t-1]\n",
    "            \n",
    "#         tprob += stock_batterie[t] == stock_batterie[t-1] - prod_batterie[t-1] + prod_t_prec - demande[t-1]\n",
    "\n",
    "# # Durée minimum de fonctionnement\n",
    "# for i in range(len(var_on)):\n",
    "#     duree = duree_fonc[i]\n",
    "#     if duree > 1:\n",
    "#         ecart = duree//2\n",
    "#         for t in range(ecart, n-ecart):\n",
    "#             tprob+=var_on[i][t] <= var_on[i][t-ecart] + var_on[i][t+ecart]\n",
    "\n",
    "# Durée minimum de fonctionnement\n",
    "for i in range(len(var_on)):\n",
    "    duree = duree_fonc[i]\n",
    "    if duree > 1:\n",
    "        for t in range(1,n-duree):\n",
    "            if var_on[i][t-1] == 0:\n",
    "                if var_on[i][t] == 1:\n",
    "                    for hour in range(1,duree+1):\n",
    "                        tprob += var_on[i][t+hour] == 1\n",
    "                \n",
    "            \n",
    "# # Durée minimum de maintenance\n",
    "# for i in range(len(var_maint)):\n",
    "#     duree = duree_maint[i]*24\n",
    "    \n",
    "#     # Maintenance obligatoire\n",
    "#     tprob += sum([var_maint[i][t] for t in range(n)]) == duree\n",
    "    \n",
    "# #     # Contraintes de jours consécutifs\n",
    "# #     if duree > 1:\n",
    "# #         ecart = duree//2\n",
    "# #         for t in range(ecart, n-ecart):\n",
    "# #             tprob += var_maint[i][t] <= var_maint[i][t-ecart] + var_maint[i][t+ecart]\n",
    "\n",
    "# #     for t in range(1,n-duree):\n",
    "# #             if var_maint[i][t-1] == 0:\n",
    "# #                 if var_maint[i][t] == 1:\n",
    "# #                     for hour in range(1,duree+1):\n",
    "# #                         tprob += var_maint[i][t+hour] == 1"
   ]
  },
  {
   "cell_type": "markdown",
   "metadata": {},
   "source": [
    "## Objectif"
   ]
  },
  {
   "cell_type": "code",
   "execution_count": 49,
   "metadata": {},
   "outputs": [
    {
     "name": "stdout",
     "output_type": "stream",
     "text": [
      "Optimal\n",
      "Time : 0.96 s\n"
     ]
    }
   ],
   "source": [
    "somme = 0\n",
    "for t in range (0,n):\n",
    "    for i in range(len(var_prod)):\n",
    "        somme += var_prod[i][t]*cout[i]\n",
    "    #somme += prod_batterie[t]*cout_batterie\n",
    "\n",
    "tprob+=somme\n",
    "\n",
    "start = time.time()\n",
    "print(pulp.LpStatus[tprob.solve()])\n",
    "end = time.time()\n",
    "\n",
    "print(\"Time : {} s\".format(round(end-start,2)))\n",
    "#assert pulp.LpStatus[tprob.solve()] == 'Optimal'"
   ]
  },
  {
   "cell_type": "markdown",
   "metadata": {},
   "source": [
    "## Résultats"
   ]
  },
  {
   "cell_type": "code",
   "execution_count": 56,
   "metadata": {},
   "outputs": [],
   "source": [
    "def display_results(verbose=False):\n",
    "\n",
    "    fig = plt.figure(figsize=(10,10))\n",
    "    plt.plot(demande,'b', label='Demande')\n",
    "\n",
    "    current_site = 0\n",
    "    prod = []\n",
    "    #Pour chaque usine\n",
    "    for j in range (data_centrales.shape[0]):\n",
    "        plant_j = []\n",
    "\n",
    "        #Pour chaque jour\n",
    "        for t in range(n):\n",
    "            prod_t = 0\n",
    "\n",
    "            #Pour chaque unité de production\n",
    "            for i in range(current_site, current_site + data_centrales['nb unités'][j]):\n",
    "                prod_t += pulp.value(var_prod[i][t])\n",
    "            plant_j.append(prod_t)\n",
    "\n",
    "        current_site += data_centrales['nb unités'][j]\n",
    "        prod.append(plant_j)\n",
    "        \n",
    "        if verbose:\n",
    "            plt.plot(plant_j,label=data_centrales['centrale'][j])\n",
    "\n",
    "\n",
    "    plt.plot([sum([prod[i][t] for i in range(len(prod))]) for t in range(n)], label='Prod totale')\n",
    "\n",
    "    plt.legend(loc='upper right')\n",
    "    plt.xlim(60,90)\n",
    "    plt.show()"
   ]
  },
  {
   "cell_type": "code",
   "execution_count": 57,
   "metadata": {},
   "outputs": [
    {
     "data": {
      "image/png": "[encoded data removed]",
      "text/plain": [
       "<Figure size 720x720 with 1 Axes>"
      ]
     },
     "metadata": {
      "needs_background": "light"
     },
     "output_type": "display_data"
    }
   ],
   "source": [
    "display_results(True)"
   ]
  },
  {
   "cell_type": "code",
   "execution_count": null,
   "metadata": {},
   "outputs": [],
   "source": []
  }
 ],
 "metadata": {
  "kernelspec": {
   "display_name": "Python 3",
   "language": "python",
   "name": "python3"
  },
  "language_info": {
   "codemirror_mode": {
    "name": "ipython",
    "version": 3
   },
   "file_extension": ".py",
   "mimetype": "text/x-python",
   "name": "python",
   "nbconvert_exporter": "python",
   "pygments_lexer": "ipython3",
   "version": "3.7.5"
  }
 },
 "nbformat": 4,
 "nbformat_minor": 2
}
